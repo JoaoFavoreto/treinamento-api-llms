{
 "cells": [
  {
   "cell_type": "markdown",
   "id": "eb213275",
   "metadata": {},
   "source": [
    "# APIs para GPTs e outros LLMs no Python"
   ]
  },
  {
   "cell_type": "markdown",
   "id": "b6776f18",
   "metadata": {},
   "source": [
    "## Por quê usar LLMs no Python:\n",
    "1) Automatização\n",
    "2) Controle\n",
    "3) Escala \n",
    "\n",
    "## O que esse treinamento deve proporcionar\n",
    "1) Configuração do ambiente: como criar e onde salvar a chave da API, como estabelecer limites de gastos\n",
    "2) Primeiros passos: fazendo uma requisição básica\n",
    "3) Trabalhando em escala: como utilizar batchs (síncrono e assíncrono)\n",
    "4) Ganhando complexidade: use case Reclame Aqui "
   ]
  },
  {
   "cell_type": "markdown",
   "id": "cece501b",
   "metadata": {},
   "source": [
    "Observações: utilizar YAML \n",
    "agents/\n",
    "    - mapeador de tendências.yaml\n",
    "    - comparador_entre_trend_e_macrotrend.yaml\n",
    "    - ...\n",
    "\n",
    "yaml:\n",
    "    - modelo de API (ex: gpt4o)\n",
    "    - temperatura\n",
    "    - outros parâmetros\n",
    "    - sys"
   ]
  },
  {
   "cell_type": "markdown",
   "id": "37ae1005",
   "metadata": {},
   "source": [
    "## 1) Configurando o ambiente \n",
    "\n",
    "Application Programming Interface (APIs) são como pontes padronizadas para que dois sistemas conversem com segurança e rapidez. Na prática, serve para que possamos extrair funcionalidades de aplicações sem que seja necessário entendermos o que tem por trás da aplicação, apenas como nos conectar. APIs envolvem algumas regras, como autenticação, limites de pedidos e horário de funcionamneto.\n",
    "\n",
    "No caso de LLMs, a API serve para utilizarmos modelos sem que precisemos de todo a aplicação web. No geral, o processo é parecido para quase todos os provedores (OpenAI, Google, Anthropic). Diferente da utilização tradicional em que se paga uma mensalidade, na utilização de APIs se paga por tokens utilizados (input/output). "
   ]
  },
  {
   "cell_type": "markdown",
   "id": "8fc3a5d4",
   "metadata": {},
   "source": [
    "### Criando uma chave\n",
    "\n",
    "O processo de criação é bem simples. Para a OpenAI, LLM que estaremos utilizando principalmente nesse treinamento, você pode criar sua própria chave aqui https://platform.openai.com/api-keys. Na maioria dos casos, você só consegue ler a chave completa quando cria, e após isso ela fica em grande parte oculta por segurança.\n",
    "\n",
    "A chave terá um formato similar a esse: \"sk-proj-XlTrIjLDJ....\""
   ]
  },
  {
   "cell_type": "markdown",
   "id": "12112fb6",
   "metadata": {},
   "source": [
    "### Onde armazenar sua chave\n",
    "É importante que sua chave fique armazenada em um local seguro. Para isso, normalmente utilizamos um arquivo \".env\". Ele é onde você armazenam variáveis que dependem da máquina ou que não devem ser salvas em seu .git ou em locais públicos. O .env não é 100% seguro mas é bom para variáveis específicas da máquina ou usuário. \n",
    "\n",
    "No caso de utilizarmos .git em algum projeto, é recomendado deixar o .env dentro do .gitignore para evitarmos que essas variáveis sejam enviadas ao repositório.\n",
    "\n",
    "A Mirow possui chaves para utilização geral."
   ]
  },
  {
   "cell_type": "markdown",
   "id": "5ffd8a1c",
   "metadata": {},
   "source": [
    "## 2) Realizando requisições \n",
    "Vamos fazer uma requisição básica a OpenAI"
   ]
  },
  {
   "cell_type": "code",
   "execution_count": 2,
   "id": "f7676dbc",
   "metadata": {},
   "outputs": [
    {
     "name": "stdout",
     "output_type": "stream",
     "text": [
      "Claro! Vamos considerar um exemplo prático de uso de uma API em um contexto de um modelo de linguagem grande (LLM).\n",
      "\n",
      "### Exemplo: Usando a API do OpenAI para gerar texto\n",
      "\n",
      "Suponha que você deseja criar um aplicativo que gera resumos de textos longos usando um modelo de linguagem como o GPT da OpenAI. Aqui está como você poderia fazer isso usando a API do OpenAI:\n",
      "\n",
      "1. **Obtenção da chave da API**: Primeiro, você precisaria se inscrever no serviço da OpenAI e obter uma chave da API, que permitirá que você faça requisições ao modelo.\n",
      "\n",
      "2. **Configuração do ambiente**: Você precisaria de um ambiente Python com a biblioteca `requests` instalada. Você pode instalá-la usando o pip:\n",
      "\n",
      "   ```bash\n",
      "   pip install requests\n",
      "   ```\n",
      "\n",
      "3. **Fazendo uma requisição à API**: Aqui está um exemplo de código que realiza uma requisição para gerar um resumo:\n",
      "\n",
      "   ```python\n",
      "   import requests\n",
      "\n",
      "   # Defina sua chave da API\n",
      "   api_key = 'sua_chave_da_api_aqui'\n",
      "\n",
      "   # O texto que você deseja resumir\n",
      "   texto_para_resumir = \"\"\"Aqui está um texto longo que você deseja resumir...\n",
      "   \"\"\"\n",
      "\n",
      "   # Endpoint da API do OpenAI\n",
      "   url = \"https://api.openai.com/v1/chat/completions\"\n",
      "\n",
      "   # Configurando o cabeçalho da requisição\n",
      "   headers = {\n",
      "       \"Authorization\": f\"Bearer {api_key}\",\n",
      "       \"Content-Type\": \"application/json\"\n",
      "   }\n",
      "\n",
      "   # Configurando o corpo da requisição\n",
      "   data = {\n",
      "       \"model\": \"gpt-3.5-turbo\",\n",
      "       \"messages\": [{\"role\": \"user\", \"content\": f\"Resuma o seguinte texto: {texto_para_resumir}\"}],\n",
      "       \"max_tokens\": 100  # Limita o tamanho do resumo\n",
      "   }\n",
      "\n",
      "   # Fazendo a requisição\n",
      "   response = requests.post(url, headers=headers, json=data)\n",
      "\n",
      "   # Verificando a resposta\n",
      "   if response.status_code == 200:\n",
      "       resumo = response.json()['choices'][0]['message']['content']\n",
      "       print(\"Resumo:\", resumo)\n",
      "   else:\n",
      "       print(\"Erro:\", response.status_code, response.text)\n",
      "   ```\n",
      "\n",
      "### Por que isso é importante?\n",
      "\n",
      "1. **Acesso a Modelos Poderosos**: Usar uma API permite que você acesse modelos de linguagem avançados sem precisar treinar um do zero, economizando tempo e recursos.\n",
      "\n",
      "2. **Facilidade de Integração**: APIs permitem que você integre funcionalidades avançadas em seus aplicativos de forma simples e rápida, utilizando apenas chamadas de rede.\n",
      "\n",
      "3. **Atualizações e Manutenção**: As APIs são mantidas pelos provedores (como a OpenAI), o que significa que você se beneficia de melhorias e atualizações sem precisar modificar seu código.\n",
      "\n",
      "4. **Escalabilidade**: Ao usar uma API, você pode escalar seu aplicativo conforme necessário, já que o provedor se encarrega da infraestrutura.\n",
      "\n",
      "Esse exemplo ilustra como as APIs são uma ferramenta poderosa para trabalhar com LLMs, permitindo que desenvolvedores criem aplicações complexas de maneira eficiente.\n"
     ]
    }
   ],
   "source": [
    "from openai import OpenAI\n",
    "import os\n",
    "from dotenv import load_dotenv\n",
    "\n",
    "# Carrega as variáveis do arquivo .env\n",
    "load_dotenv()\n",
    "\n",
    "# Inicializa o cliente\n",
    "client = OpenAI(api_key=os.getenv(\"OPENAI_API_KEY\"))\n",
    "\n",
    "# Requisição\n",
    "response = client.chat.completions.create(\n",
    "    model=\"gpt-4o-mini\",\n",
    "    messages=[\n",
    "        {\n",
    "            \"role\": \"system\",  # Instruções de alto nível para o modelo (tom, formato, regras)\n",
    "            \"content\": \"Você é um especialista em Python e análise de dados. Responda de forma clara e didática.\",\n",
    "        },\n",
    "        {\n",
    "            \"role\": \"user\",  # Pergunta ou comando do usuário\n",
    "            \"content\": \"Explique o que são APIs e por que são importantes para trabalhar com LLMs.\",\n",
    "        },\n",
    "        {\n",
    "            \"role\": \"assistant\",  # Resposta já geradas do assistente (modelo)\n",
    "            \"content\": \"APIs são interfaces que permitem comunicação entre sistemas diferentes de forma padronizada.\",\n",
    "        },\n",
    "        {\n",
    "            \"role\": \"user\",  # Nova pergunta ou comando do usuário\n",
    "            \"content\": \"Agora me dê um exemplo prático de uso.\",\n",
    "        },\n",
    "    ],\n",
    "    temperature=0.7,\n",
    "    max_tokens=1000,\n",
    ")\n",
    "\n",
    "# Exibe a resposta\n",
    "print(response.choices[0].message.content)"
   ]
  },
  {
   "cell_type": "markdown",
   "id": "3fda6f54",
   "metadata": {},
   "source": [
    "**Principais parâmetros:**\n",
    "- `model`: modelo a ser utilizado (ex: gpt-4o, gpt-4o-mini, gpt-3.5-turbo)\n",
    "- `messages`: lista de mensagens com roles (system, user, assistant)\n",
    "- `temperature`: criatividade da resposta (0 a 2), dependendo da aplicação\n",
    "- `max_tokens`: limite de tokens na resposta\n",
    "\n",
    "**ANALISAR OUTROS POSSIVEIS PARAMETROS (FORCED OUTPUT FORMAT)**"
   ]
  },
  {
   "cell_type": "code",
   "execution_count": 3,
   "id": "d15d730e",
   "metadata": {},
   "outputs": [],
   "source": [
    "import pandas as pd\n",
    "\n",
    "# Requisição para pensarmos em tendências de um mercado\n",
    "response_temperature1 = client.chat.completions.create(\n",
    "    model=\"gpt-4o-mini\",\n",
    "    messages=[\n",
    "        {\n",
    "            \"role\": \"system\",\n",
    "            \"content\": (\n",
    "                \"You are an automotive market analyst. \"\n",
    "                \"Return ONLY valid JSON with the schema: \"\n",
    "                '{\"tendencias\": [{\"nome\": str, \"descricao\": str, '\n",
    "                '\"impacto\": \"alto|medio|baixo\", \"prazo\": \"curto|medio|longo\"}]} '\n",
    "                \"No extra text, markdown, or code fences.\"\n",
    "            ),\n",
    "        },\n",
    "        {\n",
    "            \"role\": \"user\",\n",
    "            \"content\": (\n",
    "                \"List the 10 main automotive trends in Brazil following the required JSON schema.\"\n",
    "            ),\n",
    "        },\n",
    "    ],\n",
    "    temperature=0.2,\n",
    "    max_tokens=800,\n",
    ")\n",
    "\n",
    "response_temperature2 = client.chat.completions.create(\n",
    "    model=\"gpt-4o-mini\",\n",
    "    messages=[\n",
    "        {\n",
    "            \"role\": \"system\",\n",
    "            \"content\": (\n",
    "                \"You are an automotive market analyst. \"\n",
    "                \"Return ONLY valid JSON with the schema: \"\n",
    "                '{\"tendencias\": [{\"nome\": str, \"descricao\": str, '\n",
    "                '\"impacto\": \"alto|medio|baixo\", \"prazo\": \"curto|medio|longo\"}]} '\n",
    "                \"No extra text, markdown, or code fences.\"\n",
    "            ),\n",
    "        },\n",
    "        {\n",
    "            \"role\": \"user\",\n",
    "            \"content\": (\n",
    "                \"List the 10 main automotive trends in Brazil following the required JSON schema.\"\n",
    "            ),\n",
    "        },\n",
    "    ],\n",
    "    temperature=1.5,\n",
    "    max_tokens=800,\n",
    ")"
   ]
  },
  {
   "cell_type": "code",
   "execution_count": 4,
   "id": "fa299bc3",
   "metadata": {},
   "outputs": [],
   "source": [
    "import json\n",
    "\n",
    "data_temperature1 = response_temperature1.choices[0].message.content\n",
    "data_temperature2 = response_temperature2.choices[0].message.content\n",
    "\n",
    "payload1 = json.loads(data_temperature1)\n",
    "payload2 = json.loads(data_temperature2)\n",
    "\n",
    "df_temperature1 = pd.json_normalize(payload1[\"tendencias\"])\n",
    "df_temperature2 = pd.json_normalize(payload2[\"tendencias\"])"
   ]
  },
  {
   "cell_type": "code",
   "execution_count": 5,
   "id": "39a71fc4",
   "metadata": {},
   "outputs": [
    {
     "data": {
      "application/vnd.microsoft.datawrangler.viewer.v0+json": {
       "columns": [
        {
         "name": "index",
         "rawType": "int64",
         "type": "integer"
        },
        {
         "name": "nome",
         "rawType": "object",
         "type": "string"
        },
        {
         "name": "descricao",
         "rawType": "object",
         "type": "string"
        },
        {
         "name": "impacto",
         "rawType": "object",
         "type": "string"
        },
        {
         "name": "prazo",
         "rawType": "object",
         "type": "string"
        }
       ],
       "ref": "16cdc645-1e77-49e6-8b4a-d5284ac2ef82",
       "rows": [
        [
         "0",
         "Veículos Elétricos",
         "Aumento na adoção de veículos elétricos devido a incentivos governamentais e preocupação ambiental.",
         "alto",
         "medio"
        ],
        [
         "1",
         "Carros Conectados",
         "Integração de tecnologia de conectividade nos veículos, permitindo comunicação entre carros e infraestrutura.",
         "alto",
         "medio"
        ],
        [
         "2",
         "Mobilidade Urbana",
         "Crescimento de soluções de mobilidade urbana, como caronas e serviços de compartilhamento de veículos.",
         "medio",
         "curto"
        ],
        [
         "3",
         "Autonomia Veicular",
         "Desenvolvimento de tecnologias para veículos autônomos, com testes e regulamentações em andamento.",
         "alto",
         "longo"
        ],
        [
         "4",
         "Sustentabilidade",
         "Foco em práticas sustentáveis na produção e operação de veículos, incluindo reciclagem e uso de materiais ecológicos.",
         "medio",
         "medio"
        ],
        [
         "5",
         "Carros Híbridos",
         "Aumento na venda de veículos híbridos como uma alternativa entre carros a combustão e elétricos.",
         "medio",
         "curto"
        ],
        [
         "6",
         "Tecnologia de Assistência ao Motorista",
         "Implementação de sistemas avançados de assistência ao motorista (ADAS) para aumentar a segurança.",
         "alto",
         "medio"
        ],
        [
         "7",
         "Mudanças Regulatórias",
         "Novas regulamentações ambientais e de segurança que afetam a produção e venda de veículos.",
         "alto",
         "curto"
        ],
        [
         "8",
         "Digitalização da Experiência do Cliente",
         "Adoção de plataformas digitais para vendas, serviços e atendimento ao cliente no setor automotivo.",
         "medio",
         "curto"
        ],
        [
         "9",
         "Aumento da Concorrência",
         "Entrada de novas montadoras e startups no mercado, aumentando a competição e inovação.",
         "medio",
         "medio"
        ]
       ],
       "shape": {
        "columns": 4,
        "rows": 10
       }
      },
      "text/html": [
       "<div>\n",
       "<style scoped>\n",
       "    .dataframe tbody tr th:only-of-type {\n",
       "        vertical-align: middle;\n",
       "    }\n",
       "\n",
       "    .dataframe tbody tr th {\n",
       "        vertical-align: top;\n",
       "    }\n",
       "\n",
       "    .dataframe thead th {\n",
       "        text-align: right;\n",
       "    }\n",
       "</style>\n",
       "<table border=\"1\" class=\"dataframe\">\n",
       "  <thead>\n",
       "    <tr style=\"text-align: right;\">\n",
       "      <th></th>\n",
       "      <th>nome</th>\n",
       "      <th>descricao</th>\n",
       "      <th>impacto</th>\n",
       "      <th>prazo</th>\n",
       "    </tr>\n",
       "  </thead>\n",
       "  <tbody>\n",
       "    <tr>\n",
       "      <th>0</th>\n",
       "      <td>Veículos Elétricos</td>\n",
       "      <td>Aumento na adoção de veículos elétricos devido...</td>\n",
       "      <td>alto</td>\n",
       "      <td>medio</td>\n",
       "    </tr>\n",
       "    <tr>\n",
       "      <th>1</th>\n",
       "      <td>Carros Conectados</td>\n",
       "      <td>Integração de tecnologia de conectividade nos ...</td>\n",
       "      <td>alto</td>\n",
       "      <td>medio</td>\n",
       "    </tr>\n",
       "    <tr>\n",
       "      <th>2</th>\n",
       "      <td>Mobilidade Urbana</td>\n",
       "      <td>Crescimento de soluções de mobilidade urbana, ...</td>\n",
       "      <td>medio</td>\n",
       "      <td>curto</td>\n",
       "    </tr>\n",
       "    <tr>\n",
       "      <th>3</th>\n",
       "      <td>Autonomia Veicular</td>\n",
       "      <td>Desenvolvimento de tecnologias para veículos a...</td>\n",
       "      <td>alto</td>\n",
       "      <td>longo</td>\n",
       "    </tr>\n",
       "    <tr>\n",
       "      <th>4</th>\n",
       "      <td>Sustentabilidade</td>\n",
       "      <td>Foco em práticas sustentáveis na produção e op...</td>\n",
       "      <td>medio</td>\n",
       "      <td>medio</td>\n",
       "    </tr>\n",
       "    <tr>\n",
       "      <th>5</th>\n",
       "      <td>Carros Híbridos</td>\n",
       "      <td>Aumento na venda de veículos híbridos como uma...</td>\n",
       "      <td>medio</td>\n",
       "      <td>curto</td>\n",
       "    </tr>\n",
       "    <tr>\n",
       "      <th>6</th>\n",
       "      <td>Tecnologia de Assistência ao Motorista</td>\n",
       "      <td>Implementação de sistemas avançados de assistê...</td>\n",
       "      <td>alto</td>\n",
       "      <td>medio</td>\n",
       "    </tr>\n",
       "    <tr>\n",
       "      <th>7</th>\n",
       "      <td>Mudanças Regulatórias</td>\n",
       "      <td>Novas regulamentações ambientais e de seguranç...</td>\n",
       "      <td>alto</td>\n",
       "      <td>curto</td>\n",
       "    </tr>\n",
       "    <tr>\n",
       "      <th>8</th>\n",
       "      <td>Digitalização da Experiência do Cliente</td>\n",
       "      <td>Adoção de plataformas digitais para vendas, se...</td>\n",
       "      <td>medio</td>\n",
       "      <td>curto</td>\n",
       "    </tr>\n",
       "    <tr>\n",
       "      <th>9</th>\n",
       "      <td>Aumento da Concorrência</td>\n",
       "      <td>Entrada de novas montadoras e startups no merc...</td>\n",
       "      <td>medio</td>\n",
       "      <td>medio</td>\n",
       "    </tr>\n",
       "  </tbody>\n",
       "</table>\n",
       "</div>"
      ],
      "text/plain": [
       "                                      nome  \\\n",
       "0                       Veículos Elétricos   \n",
       "1                        Carros Conectados   \n",
       "2                        Mobilidade Urbana   \n",
       "3                       Autonomia Veicular   \n",
       "4                         Sustentabilidade   \n",
       "5                          Carros Híbridos   \n",
       "6   Tecnologia de Assistência ao Motorista   \n",
       "7                    Mudanças Regulatórias   \n",
       "8  Digitalização da Experiência do Cliente   \n",
       "9                  Aumento da Concorrência   \n",
       "\n",
       "                                           descricao impacto  prazo  \n",
       "0  Aumento na adoção de veículos elétricos devido...    alto  medio  \n",
       "1  Integração de tecnologia de conectividade nos ...    alto  medio  \n",
       "2  Crescimento de soluções de mobilidade urbana, ...   medio  curto  \n",
       "3  Desenvolvimento de tecnologias para veículos a...    alto  longo  \n",
       "4  Foco em práticas sustentáveis na produção e op...   medio  medio  \n",
       "5  Aumento na venda de veículos híbridos como uma...   medio  curto  \n",
       "6  Implementação de sistemas avançados de assistê...    alto  medio  \n",
       "7  Novas regulamentações ambientais e de seguranç...    alto  curto  \n",
       "8  Adoção de plataformas digitais para vendas, se...   medio  curto  \n",
       "9  Entrada de novas montadoras e startups no merc...   medio  medio  "
      ]
     },
     "execution_count": 5,
     "metadata": {},
     "output_type": "execute_result"
    }
   ],
   "source": [
    "df_temperature1"
   ]
  },
  {
   "cell_type": "code",
   "execution_count": 6,
   "id": "ddf1cbfa",
   "metadata": {},
   "outputs": [
    {
     "data": {
      "application/vnd.microsoft.datawrangler.viewer.v0+json": {
       "columns": [
        {
         "name": "index",
         "rawType": "int64",
         "type": "integer"
        },
        {
         "name": "nome",
         "rawType": "object",
         "type": "string"
        },
        {
         "name": "descricao",
         "rawType": "object",
         "type": "string"
        },
        {
         "name": "impacto",
         "rawType": "object",
         "type": "string"
        },
        {
         "name": "prazo",
         "rawType": "object",
         "type": "string"
        }
       ],
       "ref": "4d63a15d-da6b-4a60-9d7c-17c91498fcfe",
       "rows": [
        [
         "0",
         "Eletrificação dos Veículos",
         "Crescimento no mercado de veículos elétricos e híbridos, impulsionado por incentivos governamentais e pela demanda por viagens sustentáveis.",
         "alto",
         "medio"
        ],
        [
         "1",
         "Digitalização e Conectividade",
         "Integração de tecnologias de conectividade, incluindo sistemas de infotainment e aplicativos para controles de carro via smartphone.",
         "alto",
         "curto"
        ],
        [
         "2",
         "Veículos Autônomos",
         "Pesquisas para desenvolvimento de veículos autônomos têm avançado, apesar de regulatórias ainda restritivas no Brasil.",
         "medio",
         "longo"
        ],
        [
         "3",
         "Foco em Sustentabilidade",
         "Marcas estão adotando práticas mais ecológicas na produção de veículos e utilização de matérias-primas alternativas.",
         "alto",
         "longo"
        ],
        [
         "4",
         "Recuperação e Crescimento Pós-Pandemia",
         "O mercado automotivo está mostrando sinais de recuperação planejando recuperação de estoques e atenção à demanda reprimida.",
         "alto",
         "curto"
        ],
        [
         "5",
         "Popularização dos SUVs",
         "A preferência por SUVs está crescendo entre os consumidores brasileiros em função de conforto e versatilidade.",
         "alto",
         "medio"
        ],
        [
         "6",
         "Uso de Tecnologia de Assistência ao Motorista",
         "Motoristas mostram maior interesse por localizadores, assistentes de estacionamento e monitoramento de segurança.",
         "medio",
         "curto"
        ],
        [
         "7",
         "Unificação das Plataformas CPFs",
         "Concentração no compartilhamento de melhores plataformas viabilizadas por grupos de fabricantes criando economia de escala.",
         "medio",
         "medio"
        ],
        [
         "8",
         "Aumento do E-commerce de Automóveis",
         "Veio devido à pandemia, um aumento no comercio de automóveis online. Vaticina-se a persistência dessa tendência.",
         "medio",
         "curto"
        ],
        [
         "9",
         "Mobilidade Servida como Serviço (MaaS)",
         "Modelos de compras de inicia-se a implementar para fundamental utilização estilos novos de limites sustentadoresurezza/client preto.",
         "baixo",
         "longo"
        ]
       ],
       "shape": {
        "columns": 4,
        "rows": 10
       }
      },
      "text/html": [
       "<div>\n",
       "<style scoped>\n",
       "    .dataframe tbody tr th:only-of-type {\n",
       "        vertical-align: middle;\n",
       "    }\n",
       "\n",
       "    .dataframe tbody tr th {\n",
       "        vertical-align: top;\n",
       "    }\n",
       "\n",
       "    .dataframe thead th {\n",
       "        text-align: right;\n",
       "    }\n",
       "</style>\n",
       "<table border=\"1\" class=\"dataframe\">\n",
       "  <thead>\n",
       "    <tr style=\"text-align: right;\">\n",
       "      <th></th>\n",
       "      <th>nome</th>\n",
       "      <th>descricao</th>\n",
       "      <th>impacto</th>\n",
       "      <th>prazo</th>\n",
       "    </tr>\n",
       "  </thead>\n",
       "  <tbody>\n",
       "    <tr>\n",
       "      <th>0</th>\n",
       "      <td>Eletrificação dos Veículos</td>\n",
       "      <td>Crescimento no mercado de veículos elétricos e...</td>\n",
       "      <td>alto</td>\n",
       "      <td>medio</td>\n",
       "    </tr>\n",
       "    <tr>\n",
       "      <th>1</th>\n",
       "      <td>Digitalização e Conectividade</td>\n",
       "      <td>Integração de tecnologias de conectividade, in...</td>\n",
       "      <td>alto</td>\n",
       "      <td>curto</td>\n",
       "    </tr>\n",
       "    <tr>\n",
       "      <th>2</th>\n",
       "      <td>Veículos Autônomos</td>\n",
       "      <td>Pesquisas para desenvolvimento de veículos aut...</td>\n",
       "      <td>medio</td>\n",
       "      <td>longo</td>\n",
       "    </tr>\n",
       "    <tr>\n",
       "      <th>3</th>\n",
       "      <td>Foco em Sustentabilidade</td>\n",
       "      <td>Marcas estão adotando práticas mais ecológicas...</td>\n",
       "      <td>alto</td>\n",
       "      <td>longo</td>\n",
       "    </tr>\n",
       "    <tr>\n",
       "      <th>4</th>\n",
       "      <td>Recuperação e Crescimento Pós-Pandemia</td>\n",
       "      <td>O mercado automotivo está mostrando sinais de ...</td>\n",
       "      <td>alto</td>\n",
       "      <td>curto</td>\n",
       "    </tr>\n",
       "    <tr>\n",
       "      <th>5</th>\n",
       "      <td>Popularização dos SUVs</td>\n",
       "      <td>A preferência por SUVs está crescendo entre os...</td>\n",
       "      <td>alto</td>\n",
       "      <td>medio</td>\n",
       "    </tr>\n",
       "    <tr>\n",
       "      <th>6</th>\n",
       "      <td>Uso de Tecnologia de Assistência ao Motorista</td>\n",
       "      <td>Motoristas mostram maior interesse por localiz...</td>\n",
       "      <td>medio</td>\n",
       "      <td>curto</td>\n",
       "    </tr>\n",
       "    <tr>\n",
       "      <th>7</th>\n",
       "      <td>Unificação das Plataformas CPFs</td>\n",
       "      <td>Concentração no compartilhamento de melhores p...</td>\n",
       "      <td>medio</td>\n",
       "      <td>medio</td>\n",
       "    </tr>\n",
       "    <tr>\n",
       "      <th>8</th>\n",
       "      <td>Aumento do E-commerce de Automóveis</td>\n",
       "      <td>Veio devido à pandemia, um aumento no comercio...</td>\n",
       "      <td>medio</td>\n",
       "      <td>curto</td>\n",
       "    </tr>\n",
       "    <tr>\n",
       "      <th>9</th>\n",
       "      <td>Mobilidade Servida como Serviço (MaaS)</td>\n",
       "      <td>Modelos de compras de inicia-se a implementar ...</td>\n",
       "      <td>baixo</td>\n",
       "      <td>longo</td>\n",
       "    </tr>\n",
       "  </tbody>\n",
       "</table>\n",
       "</div>"
      ],
      "text/plain": [
       "                                            nome  \\\n",
       "0                     Eletrificação dos Veículos   \n",
       "1                  Digitalização e Conectividade   \n",
       "2                             Veículos Autônomos   \n",
       "3                       Foco em Sustentabilidade   \n",
       "4         Recuperação e Crescimento Pós-Pandemia   \n",
       "5                         Popularização dos SUVs   \n",
       "6  Uso de Tecnologia de Assistência ao Motorista   \n",
       "7                Unificação das Plataformas CPFs   \n",
       "8            Aumento do E-commerce de Automóveis   \n",
       "9         Mobilidade Servida como Serviço (MaaS)   \n",
       "\n",
       "                                           descricao impacto  prazo  \n",
       "0  Crescimento no mercado de veículos elétricos e...    alto  medio  \n",
       "1  Integração de tecnologias de conectividade, in...    alto  curto  \n",
       "2  Pesquisas para desenvolvimento de veículos aut...   medio  longo  \n",
       "3  Marcas estão adotando práticas mais ecológicas...    alto  longo  \n",
       "4  O mercado automotivo está mostrando sinais de ...    alto  curto  \n",
       "5  A preferência por SUVs está crescendo entre os...    alto  medio  \n",
       "6  Motoristas mostram maior interesse por localiz...   medio  curto  \n",
       "7  Concentração no compartilhamento de melhores p...   medio  medio  \n",
       "8  Veio devido à pandemia, um aumento no comercio...   medio  curto  \n",
       "9  Modelos de compras de inicia-se a implementar ...   baixo  longo  "
      ]
     },
     "execution_count": 6,
     "metadata": {},
     "output_type": "execute_result"
    }
   ],
   "source": [
    "df_temperature2"
   ]
  },
  {
   "cell_type": "markdown",
   "id": "a8136d31",
   "metadata": {},
   "source": [
    "## 3) Trabalhando em escala\n",
    "\n",
    "**Batches** permitem agrupar várias requisições em um único envio assíncrono. A API processa cada item separadamente, mas você ganha preço reduzido (tarifa de batch) e não precisa segurar a execução do seu código local enquanto a inferência acontece. O fluxo básico: gerar um arquivo NDJSON com todas as requisições, enviar esse arquivo para a OpenAI e disparar um job de batch. Depois, consultar o status até que os resultados estejam prontos e baixá-los.\n",
    "\n",
    "**Requisições assíncronas** (_async_) são úteis quando você quer disparar várias chamadas rápidas e continuar trabalhando enquanto espera o retorno. Em Python, usamos `asyncio` e o cliente assíncrono da OpenAI para mandar várias requisições em paralelo sem bloquear a thread principal."
   ]
  },
  {
   "cell_type": "code",
   "execution_count": 7,
   "id": "904a81e0",
   "metadata": {},
   "outputs": [
    {
     "name": "stdout",
     "output_type": "stream",
     "text": [
      "Arquivo de batch gerado em: C:\\Mirow\\Treinamento Python\\APIs\\Treinamento\\batch_requests.ndjson\n",
      "Batch criado: batch_6903a98366ac81909ba4f920e0855841\n"
     ]
    }
   ],
   "source": [
    "import json\n",
    "import time\n",
    "from pathlib import Path\n",
    "\n",
    "BATCH_COMPLETION_WINDOW = \"24h\"  # janela mínima exigida pela API no momento\n",
    "\n",
    "batch_requests = [\n",
    "    {\n",
    "        \"custom_id\": \"trend-macro-001\",\n",
    "        \"method\": \"POST\",\n",
    "        \"url\": \"/v1/chat/completions\",\n",
    "        \"body\": {\n",
    "            \"model\": \"gpt-4o-mini\",\n",
    "            \"messages\": [\n",
    "                {\n",
    "                    \"role\": \"system\",\n",
    "                    \"content\": (\n",
    "                        \"You are an automotive market analyst. Return ONLY valid JSON \"\n",
    "                        \"with keys: tendencias -> [{nome, descricao, impacto, prazo}]\"\n",
    "                    ),\n",
    "                },\n",
    "                {\n",
    "                    \"role\": \"user\",\n",
    "                    \"content\": \"Liste 5 tendências automotivas no Brasil seguindo o schema solicitado.\",\n",
    "                },\n",
    "            ],\n",
    "            \"temperature\": 0.0,\n",
    "            \"max_tokens\": 400,\n",
    "        },\n",
    "    },\n",
    "    {\n",
    "        \"custom_id\": \"trend-macro-002\",\n",
    "        \"method\": \"POST\",\n",
    "        \"url\": \"/v1/chat/completions\",\n",
    "        \"body\": {\n",
    "            \"model\": \"gpt-4o-mini\",\n",
    "            \"messages\": [\n",
    "                {\n",
    "                    \"role\": \"system\",\n",
    "                    \"content\": (\n",
    "                        \"You are an automotive market analyst. Return ONLY valid JSON \"\n",
    "                        \"with keys: tendencias -> [{nome, descricao, impacto, prazo}]\"\n",
    "                    ),\n",
    "                },\n",
    "                {\n",
    "                    \"role\": \"user\",\n",
    "                    \"content\": \"Liste 5 tendências automotivas na Europa seguindo o schema solicitado.\",\n",
    "                },\n",
    "            ],\n",
    "            \"temperature\": 0.0,\n",
    "            \"max_tokens\": 400,\n",
    "        },\n",
    "    },\n",
    "]\n",
    "\n",
    "batch_file = Path(\"batch_requests.ndjson\")\n",
    "batch_file.write_text(\n",
    "    \"\\n\".join(json.dumps(item) for item in batch_requests), encoding=\"utf-8\"\n",
    ")\n",
    "print(f\"Arquivo de batch gerado em: {batch_file.resolve()}\")\n",
    "\n",
    "uploaded = client.files.create(file=batch_file.open(\"rb\"), purpose=\"batch\")\n",
    "batch_job = client.batches.create(\n",
    "    input_file_id=uploaded.id,\n",
    "    endpoint=\"/v1/chat/completions\",\n",
    "    completion_window=BATCH_COMPLETION_WINDOW,\n",
    ")\n",
    "print(\"Batch criado:\", batch_job.id)\n",
    "\n",
    "batch_job = client.batches.retrieve(batch_job.id)"
   ]
  },
  {
   "cell_type": "code",
   "execution_count": 15,
   "id": "53bfb974",
   "metadata": {},
   "outputs": [
    {
     "name": "stdout",
     "output_type": "stream",
     "text": [
      "Status do batch batch_6903a98366ac81909ba4f920e0855841: completed\n",
      "\n",
      "✅ Batch completo! Baixando resultados...\n",
      "\n",
      "📦 Total de resultados: 2\n",
      "\n",
      "✓ Resultado 0 (trend-macro-001):\n",
      "  ```json\n",
      "{\n",
      "  \"tendencias\": [\n",
      "    {\n",
      "      \"nome\": \"Veículos Elétricos\",\n",
      "      \"descricao\": \"Aumento na...\n",
      "✓ Resultado 1 (trend-macro-002):\n",
      "  ```json\n",
      "{\n",
      "  \"tendencias\": [\n",
      "    {\n",
      "      \"nome\": \"Eletrificação de Veículos\",\n",
      "      \"descricao\": \"Aum...\n",
      "📦 Total de resultados: 2\n",
      "\n",
      "✓ Resultado 0 (trend-macro-001):\n",
      "  ```json\n",
      "{\n",
      "  \"tendencias\": [\n",
      "    {\n",
      "      \"nome\": \"Veículos Elétricos\",\n",
      "      \"descricao\": \"Aumento na...\n",
      "✓ Resultado 1 (trend-macro-002):\n",
      "  ```json\n",
      "{\n",
      "  \"tendencias\": [\n",
      "    {\n",
      "      \"nome\": \"Eletrificação de Veículos\",\n",
      "      \"descricao\": \"Aum...\n"
     ]
    }
   ],
   "source": [
    "batch_id = \"batch_6903a98366ac81909ba4f920e0855841\"\n",
    "\n",
    "batch_obj = client.batches.retrieve(batch_id)\n",
    "\n",
    "print(f\"Status do batch {batch_id}: {batch_obj.status}\")\n",
    "\n",
    "if batch_obj.status == \"completed\":\n",
    "    print(\"\\n✅ Batch completo! Baixando resultados...\\n\")\n",
    "    result_file_id = batch_obj.output_file_id\n",
    "    file_response = client.files.content(result_file_id)\n",
    "\n",
    "    # Processar linhas JSONL\n",
    "    results = []\n",
    "    for line in file_response.text.strip().split(\"\\n\"):\n",
    "        result = json.loads(line)\n",
    "        results.append(result)\n",
    "\n",
    "    print(f\"📦 Total de resultados: {len(results)}\\n\")\n",
    "\n",
    "    for idx, result in enumerate(results):\n",
    "        custom_id = result.get(\"custom_id\")\n",
    "        response_body = result.get(\"response\", {}).get(\"body\", {})\n",
    "\n",
    "        # Extrair conteúdo da resposta\n",
    "        message_content = (\n",
    "            response_body.get(\"choices\", [{}])[0].get(\"message\", {}).get(\"content\", \"\")\n",
    "        )\n",
    "\n",
    "        print(f\"✓ Resultado {idx} ({custom_id}):\")\n",
    "        print(f\"  {message_content[:100]}...\")"
   ]
  },
  {
   "cell_type": "markdown",
   "id": "dae1f419",
   "metadata": {},
   "source": [
    "**VERIFICAR SE MANTEMOS ASYNC**"
   ]
  },
  {
   "cell_type": "code",
   "execution_count": null,
   "id": "20f8af6c",
   "metadata": {},
   "outputs": [
    {
     "name": "stdout",
     "output_type": "stream",
     "text": [
      "Região: Brasil\n",
      "{\n",
      "  \"tendencias\": [\n",
      "    {\n",
      "      \"nome\": \"Veículos Elétricos\",\n",
      "      \"descricao\": \"Aumento na adoção de veículos elétricos devido a incentivos governamentais e crescente preocupação ambiental.\",\n",
      "      \"impacto\": \"Redução das emissões de carbono e diminuição da dependência de combustíveis fósseis.\",\n",
      "      \"prazo\": \"5-10 anos\"\n",
      "    },\n",
      "    {\n",
      "      \"nome\": \"Conectividade e Tecnologia de Informação\",\n",
      "      \"descricao\": \"Integração de tecnologias de conectividade, como sistemas de infotainment e serviços de navegação em tempo real.\",\n",
      "      \"impacto\": \"Melhoria na experiência do usuário e aumento da segurança nas estradas.\",\n",
      "      \"prazo\": \"3-5 anos\"\n",
      "    },\n",
      "    {\n",
      "      \"nome\": \"Mobilidade Urbana e Carros Compartilhados\",\n",
      "      \"descricao\": \"Crescimento de serviços de carona e compartilhamento de veículos como resposta ao congestionamento urbano.\",\n",
      "      \"impacto\": \"Redução do número de veículos nas ruas e otimização do uso de recursos de transporte.\",\n",
      "      \"prazo\": \"2-4 anos\"\n",
      "    }\n",
      "  ]\n",
      "}\n",
      "----------------------------------------\n",
      "Região: Europa\n",
      "{\n",
      "  \"tendencias\": [\n",
      "    {\n",
      "      \"nome\": \"Eletrificação de Veículos\",\n",
      "      \"descricao\": \"Aumento na produção e venda de veículos elétricos (EVs) e híbridos, impulsionado por regulamentações ambientais e incentivos governamentais.\",\n",
      "      \"impacto\": \"Redução das emissões de carbono e dependência de combustíveis fósseis, além de transformação na infraestrutura de carregamento.\",\n",
      "      \"prazo\": \"2025\"\n",
      "    },\n",
      "    {\n",
      "      \"nome\": \"Conectividade e Veículos Autônomos\",\n",
      "      \"descricao\": \"Desenvolvimento de tecnologias de conectividade e sistemas de condução autônoma, permitindo comunicação entre veículos e infraestrutura.\",\n",
      "      \"impacto\": \"Aumento da segurança nas estradas e melhoria na eficiência do tráfego, mas desafios regulatórios e éticos permanecem.\",\n",
      "      \"prazo\": \"2030\"\n",
      "    },\n",
      "    {\n",
      "      \"nome\": \"Mobilidade como Serviço (MaaS)\",\n",
      "      \"descricao\": \"Integração de diferentes modos de transporte em uma única plataforma acessível, promovendo soluções de mobilidade mais sustentáveis e eficientes.\",\n",
      "      \"impacto\": \"Mudança no comportamento do consumidor em relação à posse de veículos e redução do congestionamento urbano.\",\n",
      "      \"prazo\": \"2027\"\n",
      "    }\n",
      "  ]\n",
      "}\n",
      "----------------------------------------\n",
      "Região: Estados Unidos\n",
      "{\n",
      "  \"tendencias\": [\n",
      "    {\n",
      "      \"nome\": \"Veículos Elétricos (EVs)\",\n",
      "      \"descricao\": \"Aumento na adoção de veículos elétricos devido a incentivos governamentais e preocupações ambientais.\",\n",
      "      \"impacto\": \"Redução das emissões de carbono e transformação da infraestrutura de carregamento.\",\n",
      "      \"prazo\": \"2025\"\n",
      "    },\n",
      "    {\n",
      "      \"nome\": \"Conectividade e Carros Autônomos\",\n",
      "      \"descricao\": \"Integração de tecnologia de conectividade e desenvolvimento de veículos autônomos.\",\n",
      "      \"impacto\": \"Mudança na experiência do consumidor e potencial redução de acidentes.\",\n",
      "      \"prazo\": \"2030\"\n",
      "    },\n",
      "    {\n",
      "      \"nome\": \"Mobilidade como Serviço (MaaS)\",\n",
      "      \"descricao\": \"Crescimento de plataformas que oferecem serviços de transporte sob demanda, como caronas e compartilhamento de veículos.\",\n",
      "      \"impacto\": \"Alteração no modelo de propriedade de veículos e aumento da eficiência no uso de transporte.\",\n",
      "      \"prazo\": \"2027\"\n",
      "    }\n",
      "  ]\n",
      "}\n",
      "----------------------------------------\n"
     ]
    }
   ],
   "source": [
    "import asyncio\n",
    "import json\n",
    "import nest_asyncio\n",
    "from openai import AsyncOpenAI\n",
    "\n",
    "RUN_ASYNC_EXAMPLE = True\n",
    "async_client = AsyncOpenAI(api_key=os.getenv(\"OPENAI_API_KEY\"))\n",
    "\n",
    "nest_asyncio.apply()\n",
    "\n",
    "\n",
    "async def fetch_trends(region: str) -> dict:\n",
    "    response = await async_client.chat.completions.create(\n",
    "        model=\"gpt-4o-mini\",\n",
    "        messages=[\n",
    "            {\n",
    "                \"role\": \"system\",\n",
    "                \"content\": (\n",
    "                    \"You are an automotive market analyst. Return ONLY valid JSON \"\n",
    "                    \"with keys: tendencias -> [{nome, descricao, impacto, prazo}]\"\n",
    "                ),\n",
    "            },\n",
    "            {\n",
    "                \"role\": \"user\",\n",
    "                \"content\": f\"Liste 3 tendências automotivas em {region} seguindo o schema requerido.\",\n",
    "            },\n",
    "        ],\n",
    "        temperature=0.2,\n",
    "        max_tokens=400,\n",
    "    )\n",
    "    return json.loads(response.choices[0].message.content)\n",
    "\n",
    "\n",
    "async def run_async_requests():\n",
    "    regions = [\"Brasil\", \"Europa\", \"Estados Unidos\"]\n",
    "    tasks = [fetch_trends(region) for region in regions]\n",
    "    results = await asyncio.gather(*tasks)\n",
    "    return {region: result for region, result in zip(regions, results)}\n",
    "\n",
    "\n",
    "if RUN_ASYNC_EXAMPLE:\n",
    "    loop = asyncio.get_event_loop()\n",
    "    async_results = loop.run_until_complete(run_async_requests())\n",
    "    for region, payload in async_results.items():\n",
    "        print(f\"Região: {region}\")\n",
    "        print(json.dumps(payload, ensure_ascii=False, indent=2))\n",
    "        print(\"-\" * 40)"
   ]
  },
  {
   "cell_type": "markdown",
   "id": "adba3b9f",
   "metadata": {},
   "source": [
    "## 4) Use case: classificação de reclamações no Reclame Aqui\n",
    "\n",
    "### Project Structure\n",
    "\n",
    "```\n",
    "02. Classificador RA/\n",
    "├── main.py                    # Main orchestrator\n",
    "├── src/\n",
    "│   └── scraper.py                 # Phase 1: Data collection\n",
    "│   └──theme_discovery.py         # Phase 2: Theme discovery\n",
    "│   └──classifier.py              # Phase 4: Classification\n",
    "│   └──usage_tracker.py           # OpenAI API usage tracking\n",
    "│   └──view_usage.py              # View usage statistics\n",
    "│   └──config.py                  # Configuration\n",
    "├── requirements.txt           # Dependencies\n",
    "├── .env                       # Environment variables (create from .env.example)\n",
    "├── input/\n",
    "│   └── complaints_raw.json    # Scraped complaints (Phase 1 output)\n",
    "└── output/\n",
    "    ├── proposed_taxonomy.json        # Proposed categories (Phase 2 output)\n",
    "    ├── curated_taxonomy.json         # Final taxonomy (Phase 3 input)\n",
    "    ├── classification_results.json   # Classifications (Phase 4 output)\n",
    "    └── openai_usage.json             # API usage log (auto-generated)"
   ]
  },
  {
   "cell_type": "markdown",
   "id": "b0188d86",
   "metadata": {},
   "source": [
    "### Execução direta da pipeline no notebook\n",
    "As células abaixo reutilizam os componentes do projeto para demonstrar cada fase sem sair do Jupyter."
   ]
  },
  {
   "cell_type": "markdown",
   "id": "2e8f5f85",
   "metadata": {},
   "source": [
    "#### Configuração: exibir estatísticas de uso da API"
   ]
  },
  {
   "cell_type": "code",
   "execution_count": 21,
   "id": "3a52b38d",
   "metadata": {},
   "outputs": [
    {
     "name": "stdout",
     "output_type": "stream",
     "text": [
      "Uso de API habilitado. Estatísticas serão gravadas em: C:\\Mirow\\Treinamento Python\\APIs\\Treinamento\\02. Classificador RA\\output\\openai_usage.json\n"
     ]
    }
   ],
   "source": [
    "from pathlib import Path\n",
    "import sys\n",
    "import json\n",
    "import pandas as pd\n",
    "\n",
    "PROJECT_ROOT = Path(\"02. Classificador RA\").resolve()\n",
    "SRC_DIR = PROJECT_ROOT / \"src\"\n",
    "if str(SRC_DIR) not in sys.path:\n",
    "    sys.path.append(str(SRC_DIR))\n",
    "\n",
    "import config\n",
    "\n",
    "# Nomes de arquivos e diretórios\n",
    "config.DATA_DIR = str(PROJECT_ROOT / \"data\")\n",
    "config.OUTPUT_DIR = str(PROJECT_ROOT / \"output\")\n",
    "config.API_USAGE_LOG_FILE = str(Path(config.OUTPUT_DIR) / \"openai_usage.json\")\n",
    "\n",
    "config.SHOW_API_USAGE = True\n",
    "config.SHOW_API_USAGE_DETAILS = False\n",
    "\n",
    "config.COMPLAINTS_FILE = str(Path(config.DATA_DIR) / \"complaints_raw.json\")\n",
    "config.PROPOSED_TAXONOMY_FILE = str(Path(config.OUTPUT_DIR) / \"proposed_taxonomy.json\")\n",
    "config.CURATED_TAXONOMY_FILE = str(Path(config.OUTPUT_DIR) / \"curated_taxonomy.json\")\n",
    "config.CLASSIFICATION_RESULTS_FILE = str(\n",
    "    Path(config.OUTPUT_DIR) / \"classification_results.json\"\n",
    ")\n",
    "\n",
    "Path(config.DATA_DIR).mkdir(parents=True, exist_ok=True)\n",
    "Path(config.OUTPUT_DIR).mkdir(parents=True, exist_ok=True)\n",
    "\n",
    "complaints_path = Path(config.COMPLAINTS_FILE)\n",
    "fallback_path = PROJECT_ROOT / \"input\" / \"complaints_raw.json\"\n",
    "\n",
    "\n",
    "print(\n",
    "    \"Uso de API habilitado. Estatísticas serão gravadas em:\", config.API_USAGE_LOG_FILE\n",
    ")"
   ]
  },
  {
   "cell_type": "markdown",
   "id": "bff5b762",
   "metadata": {},
   "source": [
    "#### 1. Scraping das reclamações (ou carregamento da base local)"
   ]
  },
  {
   "cell_type": "code",
   "execution_count": 22,
   "id": "66a656ea",
   "metadata": {},
   "outputs": [
    {
     "name": "stdout",
     "output_type": "stream",
     "text": [
      "Starting scrape: up to 5 pages\n",
      "Fetching page 1...\n",
      "Fetching page 1...\n",
      "✓ Extracted 10 complaints from page 1\n",
      "✓ Extracted 10 complaints from page 1\n",
      "Fetching page 2...\n",
      "Fetching page 2...\n",
      "✓ Extracted 10 complaints from page 2\n",
      "✓ Extracted 10 complaints from page 2\n",
      "Fetching page 3...\n",
      "Fetching page 3...\n",
      "✓ Extracted 10 complaints from page 3\n",
      "✓ Extracted 10 complaints from page 3\n",
      "Fetching page 4...\n",
      "Fetching page 4...\n",
      "✓ Extracted 10 complaints from page 4\n",
      "✓ Extracted 10 complaints from page 4\n",
      "Fetching page 5...\n",
      "Fetching page 5...\n",
      "✓ Extracted 10 complaints from page 5\n",
      "\n",
      "✓ Total complaints collected: 50\n",
      "✓ Extracted 10 complaints from page 5\n",
      "\n",
      "✓ Total complaints collected: 50\n",
      "Reclamações disponíveis: 50\n",
      "Reclamações disponíveis: 50\n"
     ]
    },
    {
     "data": {
      "application/vnd.microsoft.datawrangler.viewer.v0+json": {
       "columns": [
        {
         "name": "index",
         "rawType": "int64",
         "type": "integer"
        },
        {
         "name": "complaint_id",
         "rawType": "object",
         "type": "string"
        },
        {
         "name": "complaint_title",
         "rawType": "object",
         "type": "string"
        },
        {
         "name": "status",
         "rawType": "object",
         "type": "string"
        }
       ],
       "ref": "c0fc2733-603b-41ab-a701-a2e9237c7b72",
       "rows": [
        [
         "0",
         "COMPLAINT_FNftCrSvmjTVSTIi",
         "Negativa de garantia para peça substituída anteriormente (Volante do motor) - Sprinter 417",
         "Aguardando resposta"
        ],
        [
         "1",
         "COMPLAINT_hMBfJpzQmQ46G4_k",
         "Caminhão com [NOME] de Óleo e [NOME] em Garantia",
         "Aguardando resposta"
        ],
        [
         "2",
         "COMPLAINT_LeSwbKMr-EZHSWpw",
         "[NOME] 2024/2025 com problemas na marcha e direção com 8.500 km",
         "Aguardando resposta"
        ],
        [
         "3",
         "COMPLAINT_A5atRAmWVxU9E32k",
         "Absurdo no preço do banco e durabilidade inferior ao de um Uno 2006",
         "Aguardando resposta"
        ],
        [
         "4",
         "COMPLAINT_E5euaQanLCg2t2et",
         "Solicitação de [NOME] e Revisão da Análise de Craquelamento em Assento de Mercedes GLB 200",
         "Aguardando resposta"
        ]
       ],
       "shape": {
        "columns": 3,
        "rows": 5
       }
      },
      "text/html": [
       "<div>\n",
       "<style scoped>\n",
       "    .dataframe tbody tr th:only-of-type {\n",
       "        vertical-align: middle;\n",
       "    }\n",
       "\n",
       "    .dataframe tbody tr th {\n",
       "        vertical-align: top;\n",
       "    }\n",
       "\n",
       "    .dataframe thead th {\n",
       "        text-align: right;\n",
       "    }\n",
       "</style>\n",
       "<table border=\"1\" class=\"dataframe\">\n",
       "  <thead>\n",
       "    <tr style=\"text-align: right;\">\n",
       "      <th></th>\n",
       "      <th>complaint_id</th>\n",
       "      <th>complaint_title</th>\n",
       "      <th>status</th>\n",
       "    </tr>\n",
       "  </thead>\n",
       "  <tbody>\n",
       "    <tr>\n",
       "      <th>0</th>\n",
       "      <td>COMPLAINT_FNftCrSvmjTVSTIi</td>\n",
       "      <td>Negativa de garantia para peça substituída ant...</td>\n",
       "      <td>Aguardando resposta</td>\n",
       "    </tr>\n",
       "    <tr>\n",
       "      <th>1</th>\n",
       "      <td>COMPLAINT_hMBfJpzQmQ46G4_k</td>\n",
       "      <td>Caminhão com [NOME] de Óleo e [NOME] em Garantia</td>\n",
       "      <td>Aguardando resposta</td>\n",
       "    </tr>\n",
       "    <tr>\n",
       "      <th>2</th>\n",
       "      <td>COMPLAINT_LeSwbKMr-EZHSWpw</td>\n",
       "      <td>[NOME] 2024/2025 com problemas na marcha e dir...</td>\n",
       "      <td>Aguardando resposta</td>\n",
       "    </tr>\n",
       "    <tr>\n",
       "      <th>3</th>\n",
       "      <td>COMPLAINT_A5atRAmWVxU9E32k</td>\n",
       "      <td>Absurdo no preço do banco e durabilidade infer...</td>\n",
       "      <td>Aguardando resposta</td>\n",
       "    </tr>\n",
       "    <tr>\n",
       "      <th>4</th>\n",
       "      <td>COMPLAINT_E5euaQanLCg2t2et</td>\n",
       "      <td>Solicitação de [NOME] e Revisão da Análise de ...</td>\n",
       "      <td>Aguardando resposta</td>\n",
       "    </tr>\n",
       "  </tbody>\n",
       "</table>\n",
       "</div>"
      ],
      "text/plain": [
       "                 complaint_id  \\\n",
       "0  COMPLAINT_FNftCrSvmjTVSTIi   \n",
       "1  COMPLAINT_hMBfJpzQmQ46G4_k   \n",
       "2  COMPLAINT_LeSwbKMr-EZHSWpw   \n",
       "3  COMPLAINT_A5atRAmWVxU9E32k   \n",
       "4  COMPLAINT_E5euaQanLCg2t2et   \n",
       "\n",
       "                                     complaint_title               status  \n",
       "0  Negativa de garantia para peça substituída ant...  Aguardando resposta  \n",
       "1   Caminhão com [NOME] de Óleo e [NOME] em Garantia  Aguardando resposta  \n",
       "2  [NOME] 2024/2025 com problemas na marcha e dir...  Aguardando resposta  \n",
       "3  Absurdo no preço do banco e durabilidade infer...  Aguardando resposta  \n",
       "4  Solicitação de [NOME] e Revisão da Análise de ...  Aguardando resposta  "
      ]
     },
     "execution_count": 22,
     "metadata": {},
     "output_type": "execute_result"
    }
   ],
   "source": [
    "from scraper import ReclameAquiAPIExtractor, SELENIUM_AVAILABLE\n",
    "\n",
    "complaints_path = Path(config.COMPLAINTS_FILE)\n",
    "fallback_path = PROJECT_ROOT / \"input\" / \"complaints_raw.json\"\n",
    "\n",
    "# Extrair reclamações do ReclameAqui\n",
    "if SELENIUM_AVAILABLE:\n",
    "    extractor = ReclameAquiAPIExtractor(config.RECLAME_AQUI_URL, delay=1.5)\n",
    "    complaints = extractor.scrape_all_complaints(max_pages=5)\n",
    "else:\n",
    "    if fallback_path.exists():\n",
    "        print(\n",
    "            \"Selenium não disponível. Reutilizando base salva em input/complaints_raw.json.\"\n",
    "        )\n",
    "    else:\n",
    "        raise RuntimeError(\n",
    "            \"Nem Selenium nem arquivo local disponível para carregar as reclamações.\"\n",
    "        )\n",
    "\n",
    "with open(complaints_path, \"w\", encoding=\"utf-8\") as fp:\n",
    "    json.dump(complaints, fp, ensure_ascii=False, indent=2)\n",
    "\n",
    "print(f\"Reclamações disponíveis: {len(complaints)}\")\n",
    "pd.DataFrame(complaints)[[\"complaint_id\", \"complaint_title\", \"status\"]].head()"
   ]
  },
  {
   "cell_type": "code",
   "execution_count": 58,
   "id": "d2a82a5d",
   "metadata": {},
   "outputs": [],
   "source": [
    "# Como configurar um agente com .yaml"
   ]
  },
  {
   "cell_type": "markdown",
   "id": "78a6eb02",
   "metadata": {},
   "source": [
    "#### 2. Geração automática de categorias com OpenAI"
   ]
  },
  {
   "cell_type": "code",
   "execution_count": 24,
   "id": "0f45863b",
   "metadata": {},
   "outputs": [
    {
     "name": "stdout",
     "output_type": "stream",
     "text": [
      "✓ agent_loader recarregado\n",
      "\n",
      "Verificando YAML atual:\n",
      "theme_discovery model: gpt-4-turbo\n"
     ]
    }
   ],
   "source": [
    "# Forçar reload dos módulos para pegar alterações no YAML\n",
    "import importlib\n",
    "import sys\n",
    "\n",
    "# Recarregar módulos se já estiverem em cache\n",
    "if \"agent_loader\" in sys.modules:\n",
    "    importlib.reload(sys.modules[\"agent_loader\"])\n",
    "    print(\"✓ agent_loader recarregado\")\n",
    "\n",
    "if \"theme_discovery\" in sys.modules:\n",
    "    importlib.reload(sys.modules[\"theme_discovery\"])\n",
    "    print(\"✓ theme_discovery recarregado\")\n",
    "\n",
    "if \"classifier\" in sys.modules:\n",
    "    importlib.reload(sys.modules[\"classifier\"])\n",
    "    print(\"✓ classifier recarregado\")\n",
    "\n",
    "print(\"\\nVerificando YAML atual:\")\n",
    "from agent_loader import load_agent_config\n",
    "\n",
    "print(f\"theme_discovery model: {load_agent_config('theme_discovery').get('model')}\")"
   ]
  },
  {
   "cell_type": "code",
   "execution_count": null,
   "id": "d4ca67a0",
   "metadata": {},
   "outputs": [
    {
     "name": "stdout",
     "output_type": "stream",
     "text": [
      "Categorias propostas: 6\n"
     ]
    },
    {
     "data": {
      "application/vnd.microsoft.datawrangler.viewer.v0+json": {
       "columns": [
        {
         "name": "index",
         "rawType": "int64",
         "type": "integer"
        },
        {
         "name": "category_name",
         "rawType": "object",
         "type": "string"
        },
        {
         "name": "category_description",
         "rawType": "object",
         "type": "string"
        }
       ],
       "ref": "e9af72ba-271f-4f8d-afea-7bd705e120d1",
       "rows": [
        [
         "0",
         "Warranty Claim Denials",
         "Customers express dissatisfaction when warranty claims for repairs or part replacements are denied, especially when the vehicle is relatively new or has low mileage."
        ],
        [
         "1",
         "Delayed Part Delivery",
         "Customers are frustrated by the long wait times for the delivery of parts needed for repairs, which extends the overall repair time."
        ],
        [
         "2",
         "High Cost of Parts and Services",
         "Customers are unhappy with the high costs associated with replacement parts and services, particularly when compared to other brands or older models."
        ],
        [
         "3",
         "Quality Issues with New Vehicles",
         "New vehicle owners report defects and quality issues shortly after purchase, which affects their satisfaction and trust in the brand."
        ],
        [
         "4",
         "Inadequate Customer Support",
         "Customers feel neglected due to poor communication and lack of support during service and post-service phases."
        ],
        [
         "5",
         "Recall and Safety Issues",
         "Customers report problems related to recalls not being honored or poorly managed, raising concerns about vehicle safety."
        ]
       ],
       "shape": {
        "columns": 2,
        "rows": 6
       }
      },
      "text/html": [
       "<div>\n",
       "<style scoped>\n",
       "    .dataframe tbody tr th:only-of-type {\n",
       "        vertical-align: middle;\n",
       "    }\n",
       "\n",
       "    .dataframe tbody tr th {\n",
       "        vertical-align: top;\n",
       "    }\n",
       "\n",
       "    .dataframe thead th {\n",
       "        text-align: right;\n",
       "    }\n",
       "</style>\n",
       "<table border=\"1\" class=\"dataframe\">\n",
       "  <thead>\n",
       "    <tr style=\"text-align: right;\">\n",
       "      <th></th>\n",
       "      <th>category_name</th>\n",
       "      <th>category_description</th>\n",
       "    </tr>\n",
       "  </thead>\n",
       "  <tbody>\n",
       "    <tr>\n",
       "      <th>0</th>\n",
       "      <td>Warranty Claim Denials</td>\n",
       "      <td>Customers express dissatisfaction when warrant...</td>\n",
       "    </tr>\n",
       "    <tr>\n",
       "      <th>1</th>\n",
       "      <td>Delayed Part Delivery</td>\n",
       "      <td>Customers are frustrated by the long wait time...</td>\n",
       "    </tr>\n",
       "    <tr>\n",
       "      <th>2</th>\n",
       "      <td>High Cost of Parts and Services</td>\n",
       "      <td>Customers are unhappy with the high costs asso...</td>\n",
       "    </tr>\n",
       "    <tr>\n",
       "      <th>3</th>\n",
       "      <td>Quality Issues with New Vehicles</td>\n",
       "      <td>New vehicle owners report defects and quality ...</td>\n",
       "    </tr>\n",
       "    <tr>\n",
       "      <th>4</th>\n",
       "      <td>Inadequate Customer Support</td>\n",
       "      <td>Customers feel neglected due to poor communica...</td>\n",
       "    </tr>\n",
       "    <tr>\n",
       "      <th>5</th>\n",
       "      <td>Recall and Safety Issues</td>\n",
       "      <td>Customers report problems related to recalls n...</td>\n",
       "    </tr>\n",
       "  </tbody>\n",
       "</table>\n",
       "</div>"
      ],
      "text/plain": [
       "                      category_name  \\\n",
       "0            Warranty Claim Denials   \n",
       "1             Delayed Part Delivery   \n",
       "2   High Cost of Parts and Services   \n",
       "3  Quality Issues with New Vehicles   \n",
       "4       Inadequate Customer Support   \n",
       "5          Recall and Safety Issues   \n",
       "\n",
       "                                category_description  \n",
       "0  Customers express dissatisfaction when warrant...  \n",
       "1  Customers are frustrated by the long wait time...  \n",
       "2  Customers are unhappy with the high costs asso...  \n",
       "3  New vehicle owners report defects and quality ...  \n",
       "4  Customers feel neglected due to poor communica...  \n",
       "5  Customers report problems related to recalls n...  "
      ]
     },
     "metadata": {},
     "output_type": "display_data"
    },
    {
     "name": "stdout",
     "output_type": "stream",
     "text": [
      "\n",
      "Uso da API - Fase 2 (Theme Discovery):\n",
      "{\n",
      "  \"total_tokens\": 5253,\n",
      "  \"input_tokens\": 4704,\n",
      "  \"output_tokens\": 549,\n",
      "  \"estimated_cost_usd\": 0.0635,\n",
      "  \"api_calls\": 1\n",
      "}\n"
     ]
    }
   ],
   "source": [
    "from theme_discovery import ThemeDiscovery\n",
    "\n",
    "if not config.OPENAI_API_KEY:\n",
    "    raise RuntimeError(\n",
    "        \"Defina OPENAI_API_KEY no arquivo .env antes de gerar a taxonomia.\"\n",
    "    )\n",
    "\n",
    "# Classe do Theme Discovery\n",
    "discovery = ThemeDiscovery(config.OPENAI_API_KEY, track_usage=True)\n",
    "\n",
    "# Verificando se iremos trackear utilização da API\n",
    "if discovery.tracker:\n",
    "    discovery.tracker.start_session(\n",
    "        \"Notebook - Fase 2 (Theme Discovery)\", discovery.model\n",
    "    )\n",
    "\n",
    "complaints = discovery.load_complaints(config.COMPLAINTS_FILE)\n",
    "sample = discovery.sample_complaints(complaints, config.SAMPLE_SIZE_FOR_DISCOVERY)\n",
    "taxonomy_payload = discovery.generate_taxonomy(\n",
    "    sample\n",
    ")\n",
    "discovery.save_taxonomy(\n",
    "    taxonomy_payload, config.PROPOSED_TAXONOMY_FILE\n",
    ")  # Salvar taxonomia proposta\n",
    "\n",
    "print(f\"Categorias propostas: {len(taxonomy_payload['proposed_categories'])}\")\n",
    "taxonomy_df = pd.DataFrame(taxonomy_payload[\"proposed_categories\"])\n",
    "display(taxonomy_df[[\"category_name\", \"category_description\"]])\n",
    "\n",
    "if discovery.tracker:\n",
    "    session_data = discovery.tracker.end_session()\n",
    "    if session_data:\n",
    "        print(\"\\nUso da API - Fase 2 (Theme Discovery):\")\n",
    "        print(\n",
    "            json.dumps(\n",
    "                {\n",
    "                    \"total_tokens\": session_data[\"total_tokens\"],\n",
    "                    \"input_tokens\": session_data[\"total_input_tokens\"],\n",
    "                    \"output_tokens\": session_data[\"total_output_tokens\"],\n",
    "                    \"estimated_cost_usd\": session_data[\"estimated_cost_usd\"],\n",
    "                    \"api_calls\": len(session_data[\"calls\"]),\n",
    "                },\n",
    "                indent=2,\n",
    "                ensure_ascii=False,\n",
    "            )\n",
    "        )"
   ]
  },
  {
   "cell_type": "markdown",
   "id": "3765deb2",
   "metadata": {},
   "source": [
    "#### 3. Classificação das reclamações com a taxonomia definida"
   ]
  },
  {
   "cell_type": "code",
   "execution_count": null,
   "id": "9f0c0a5f",
   "metadata": {},
   "outputs": [
    {
     "name": "stderr",
     "output_type": "stream",
     "text": [
      "Classifying complaints: 100%|██████████| 50/50 [00:35<00:00,  1.41it/s]"
     ]
    },
    {
     "name": "stdout",
     "output_type": "stream",
     "text": [
      "Reclamações classificadas nesta célula: 50\n"
     ]
    },
    {
     "name": "stderr",
     "output_type": "stream",
     "text": [
      "\n"
     ]
    },
    {
     "data": {
      "application/vnd.microsoft.datawrangler.viewer.v0+json": {
       "columns": [
        {
         "name": "index",
         "rawType": "int64",
         "type": "integer"
        },
        {
         "name": "category",
         "rawType": "object",
         "type": "string"
        },
        {
         "name": "count",
         "rawType": "int64",
         "type": "integer"
        },
        {
         "name": "percentage",
         "rawType": "float64",
         "type": "float"
        }
       ],
       "ref": "5bec459b-65d3-4cfc-b91e-6d83b606057a",
       "rows": [
        [
         "0",
         "Quality of Materials",
         "22",
         "44.0"
        ],
        [
         "1",
         "Warranty Issues",
         "12",
         "24.0"
        ],
        [
         "2",
         "Technical Support and Connectivity Issues",
         "8",
         "16.0"
        ],
        [
         "3",
         "Delayed Repairs and Parts Delivery",
         "6",
         "12.0"
        ],
        [
         "4",
         "Recall Management",
         "2",
         "4.0"
        ]
       ],
       "shape": {
        "columns": 3,
        "rows": 5
       }
      },
      "text/html": [
       "<div>\n",
       "<style scoped>\n",
       "    .dataframe tbody tr th:only-of-type {\n",
       "        vertical-align: middle;\n",
       "    }\n",
       "\n",
       "    .dataframe tbody tr th {\n",
       "        vertical-align: top;\n",
       "    }\n",
       "\n",
       "    .dataframe thead th {\n",
       "        text-align: right;\n",
       "    }\n",
       "</style>\n",
       "<table border=\"1\" class=\"dataframe\">\n",
       "  <thead>\n",
       "    <tr style=\"text-align: right;\">\n",
       "      <th></th>\n",
       "      <th>category</th>\n",
       "      <th>count</th>\n",
       "      <th>percentage</th>\n",
       "    </tr>\n",
       "  </thead>\n",
       "  <tbody>\n",
       "    <tr>\n",
       "      <th>0</th>\n",
       "      <td>Quality of Materials</td>\n",
       "      <td>22</td>\n",
       "      <td>44.0</td>\n",
       "    </tr>\n",
       "    <tr>\n",
       "      <th>1</th>\n",
       "      <td>Warranty Issues</td>\n",
       "      <td>12</td>\n",
       "      <td>24.0</td>\n",
       "    </tr>\n",
       "    <tr>\n",
       "      <th>2</th>\n",
       "      <td>Technical Support and Connectivity Issues</td>\n",
       "      <td>8</td>\n",
       "      <td>16.0</td>\n",
       "    </tr>\n",
       "    <tr>\n",
       "      <th>3</th>\n",
       "      <td>Delayed Repairs and Parts Delivery</td>\n",
       "      <td>6</td>\n",
       "      <td>12.0</td>\n",
       "    </tr>\n",
       "    <tr>\n",
       "      <th>4</th>\n",
       "      <td>Recall Management</td>\n",
       "      <td>2</td>\n",
       "      <td>4.0</td>\n",
       "    </tr>\n",
       "  </tbody>\n",
       "</table>\n",
       "</div>"
      ],
      "text/plain": [
       "                                    category  count  percentage\n",
       "0                       Quality of Materials     22        44.0\n",
       "1                            Warranty Issues     12        24.0\n",
       "2  Technical Support and Connectivity Issues      8        16.0\n",
       "3         Delayed Repairs and Parts Delivery      6        12.0\n",
       "4                          Recall Management      2         4.0"
      ]
     },
     "metadata": {},
     "output_type": "display_data"
    },
    {
     "name": "stdout",
     "output_type": "stream",
     "text": [
      "\n",
      "Uso da API - Fase 3 (Classificação):\n",
      "{\n",
      "  \"total_tokens\": 0,\n",
      "  \"input_tokens\": 0,\n",
      "  \"output_tokens\": 0,\n",
      "  \"estimated_cost_usd\": 0.0,\n",
      "  \"api_calls\": 0\n",
      "}\n"
     ]
    }
   ],
   "source": [
    "from classifier import ComplaintClassifier\n",
    "\n",
    "if not config.OPENAI_API_KEY:\n",
    "    raise RuntimeError(\n",
    "        \"Defina OPENAI_API_KEY no arquivo .env antes de classificar as reclamações.\"\n",
    "    )\n",
    "\n",
    "taxonomy_path = Path(config.CURATED_TAXONOMY_FILE)\n",
    "if not taxonomy_path.exists():\n",
    "    print(\"Taxonomia curada não encontrada. Usando proposta recém-gerada.\")\n",
    "    taxonomy_path = Path(config.PROPOSED_TAXONOMY_FILE)\n",
    "\n",
    "classifier = ComplaintClassifier(config.OPENAI_API_KEY, track_usage=True)\n",
    "if classifier.tracker:\n",
    "    classifier.tracker.start_session(\n",
    "        \"Notebook - Fase 3 (Classificação)\", classifier.model\n",
    "    )\n",
    "\n",
    "taxonomy = classifier.load_taxonomy(str(taxonomy_path))\n",
    "complaints = classifier.load_complaints(config.COMPLAINTS_FILE)\n",
    "results = classifier.classify_all(complaints=complaints, taxonomy=taxonomy)\n",
    "summary = classifier.generate_summary(results)\n",
    "\n",
    "output_payload = {\n",
    "    \"taxonomy_used\": taxonomy,\n",
    "    \"classification_results\": results,\n",
    "    \"summary\": summary,\n",
    "}   \n",
    "with open(config.CLASSIFICATION_RESULTS_FILE, \"w\", encoding=\"utf-8\") as fp:\n",
    "    json.dump(output_payload, fp, ensure_ascii=False, indent=2)\n",
    "\n",
    "print(f\"Reclamações classificadas nesta célula: {len(results)}\")\n",
    "display(pd.DataFrame(summary[\"category_distribution\"]))\n",
    "\n",
    "if classifier.tracker:\n",
    "    session_data = classifier.tracker.end_session()\n",
    "    if session_data:\n",
    "        print(\"\\nUso da API - Fase 3 (Classificação):\")\n",
    "        print(\n",
    "            json.dumps(\n",
    "                {\n",
    "                    \"total_tokens\": session_data[\"total_tokens\"],\n",
    "                    \"input_tokens\": session_data[\"total_input_tokens\"],\n",
    "                    \"output_tokens\": session_data[\"total_output_tokens\"],\n",
    "                    \"estimated_cost_usd\": session_data[\"estimated_cost_usd\"],\n",
    "                    \"api_calls\": len(session_data[\"calls\"]),\n",
    "                },\n",
    "                indent=2,\n",
    "                ensure_ascii=False,\n",
    "            )\n",
    "        )"
   ]
  }
 ],
 "metadata": {
  "kernelspec": {
   "display_name": "Python 3",
   "language": "python",
   "name": "python3"
  },
  "language_info": {
   "codemirror_mode": {
    "name": "ipython",
    "version": 3
   },
   "file_extension": ".py",
   "mimetype": "text/x-python",
   "name": "python",
   "nbconvert_exporter": "python",
   "pygments_lexer": "ipython3",
   "version": "3.13.3"
  }
 },
 "nbformat": 4,
 "nbformat_minor": 5
}
